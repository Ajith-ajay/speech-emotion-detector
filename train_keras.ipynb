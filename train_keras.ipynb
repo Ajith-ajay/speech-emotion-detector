{
 "cells": [
  {
   "cell_type": "code",
   "execution_count": null,
   "id": "22881071-e41c-4554-b902-fbfc8df693c7",
   "metadata": {},
   "outputs": [],
   "source": [
    "%pip install librosa soundfile numpy scikit-learn pyaudio tensorflow"
   ]
  },
  {
   "cell_type": "code",
   "execution_count": 1,
   "id": "95878daa-0b2d-4fd0-a098-02bc4adf7c38",
   "metadata": {},
   "outputs": [],
   "source": [
    "import librosa\n",
    "import soundfile\n",
    "import os, glob\n",
    "import numpy as np\n",
    "from sklearn.model_selection import train_test_split\n",
    "from sklearn.preprocessing import LabelEncoder, StandardScaler\n",
    "from tensorflow.keras.models import Sequential\n",
    "from tensorflow.keras.layers import Dense, Dropout\n",
    "from tensorflow.keras.utils import to_categorical"
   ]
  },
  {
   "cell_type": "code",
   "execution_count": 2,
   "id": "9eb67149-a8dd-4a56-9362-93a461dcc208",
   "metadata": {},
   "outputs": [],
   "source": [
    "def extract_feature(file_name, mfcc=True, chroma=True, mel=True):\n",
    "    with soundfile.SoundFile(file_name) as sound_file:\n",
    "        X = sound_file.read(dtype=\"float32\")\n",
    "        sample_rate = sound_file.samplerate\n",
    "        result = np.array([])\n",
    "        if chroma:\n",
    "            stft = np.abs(librosa.stft(X))\n",
    "        if mfcc:\n",
    "            mfccs = np.mean(librosa.feature.mfcc(y=X, sr=sample_rate, n_mfcc=40).T, axis=0)\n",
    "            result = np.hstack((result, mfccs))\n",
    "        if chroma:\n",
    "            chroma = np.mean(librosa.feature.chroma_stft(S=stft, sr=sample_rate).T, axis=0)\n",
    "            result = np.hstack((result, chroma))\n",
    "        if mel:\n",
    "            mel = np.mean(librosa.feature.melspectrogram(y=X, sr=sample_rate).T, axis=0)\n",
    "            result = np.hstack((result, mel))\n",
    "    return result\n"
   ]
  },
  {
   "cell_type": "code",
   "execution_count": 3,
   "id": "59760ad4-5ae2-446b-b33d-c96839b46257",
   "metadata": {},
   "outputs": [],
   "source": [
    "emotions = {\n",
    "    '01':'neutral', '02':'calm', '03':'happy', '04':'sad',\n",
    "    '05':'angry', '06':'fearful', '07':'disgust', '08':'surprised'\n",
    "}\n",
    "observed_emotions = ['calm', 'happy', 'fearful', 'disgust']"
   ]
  },
  {
   "cell_type": "code",
   "execution_count": 4,
   "id": "60421d36-f3bf-4fd2-aea0-6aa21b55c1c8",
   "metadata": {},
   "outputs": [],
   "source": [
    "def load_data(test_size=0.25):\n",
    "    x, y = [], []\n",
    "    for file in glob.glob(\"D:\\\\Projects\\\\Machine Learning\\\\speech emotion detector\\\\data\\\\Actor_*\\\\*.wav\"):\n",
    "        file_name = os.path.basename(file)\n",
    "        emotion = emotions[file_name.split(\"-\")[2]]\n",
    "        if emotion not in observed_emotions:\n",
    "            continue\n",
    "        feature = extract_feature(file, mfcc=True, chroma=True, mel=True)\n",
    "        x.append(feature)\n",
    "        y.append(emotion)\n",
    "    return train_test_split(np.array(x), y, test_size=test_size, random_state=9)"
   ]
  },
  {
   "cell_type": "code",
   "execution_count": 5,
   "id": "1382922e-47e8-41fd-8af2-482db2848ef4",
   "metadata": {},
   "outputs": [],
   "source": [
    "x_train, x_test, y_train, y_test = load_data(test_size=0.25)"
   ]
  },
  {
   "cell_type": "code",
   "execution_count": 6,
   "id": "be8967db-61ea-4e09-a765-893bdd9fb138",
   "metadata": {},
   "outputs": [
    {
     "data": {
      "text/plain": [
       "((576, 180), (192, 180))"
      ]
     },
     "execution_count": 6,
     "metadata": {},
     "output_type": "execute_result"
    }
   ],
   "source": [
    "x_train.shape, x_test.shape"
   ]
  },
  {
   "cell_type": "code",
   "execution_count": null,
   "id": "8b8d2165-4563-4652-8a7d-f3838ed91a6d",
   "metadata": {},
   "outputs": [],
   "source": []
  },
  {
   "cell_type": "code",
   "execution_count": 7,
   "id": "8763df5b-11f8-4f79-91aa-1a54eb99d16b",
   "metadata": {},
   "outputs": [],
   "source": [
    "le = LabelEncoder()\n",
    "y_train = to_categorical(le.fit_transform(y_train))\n",
    "y_test = to_categorical(le.transform(y_test))"
   ]
  },
  {
   "cell_type": "code",
   "execution_count": 8,
   "id": "e3414071-1dd3-4bde-9d25-600f4005eaf1",
   "metadata": {},
   "outputs": [],
   "source": [
    "scaler = StandardScaler()\n",
    "x_train = scaler.fit_transform(x_train)\n",
    "x_test = scaler.transform(x_test)"
   ]
  },
  {
   "cell_type": "code",
   "execution_count": 9,
   "id": "744eb82f-2f94-404b-a88a-f6baabeadd1d",
   "metadata": {},
   "outputs": [
    {
     "name": "stdout",
     "output_type": "stream",
     "text": [
      "WARNING:tensorflow:From C:\\Users\\Ajith G\\anaconda3\\envs\\genderclass\\lib\\site-packages\\keras\\src\\backend.py:873: The name tf.get_default_graph is deprecated. Please use tf.compat.v1.get_default_graph instead.\n",
      "\n"
     ]
    }
   ],
   "source": [
    "model = Sequential()\n",
    "model.add(Dense(256, input_shape=(x_train.shape[1],), activation='relu'))\n",
    "model.add(Dropout(0.3))\n",
    "model.add(Dense(128, activation='relu'))\n",
    "model.add(Dropout(0.3))\n",
    "model.add(Dense(y_train.shape[1], activation='softmax'))  # Output layer"
   ]
  },
  {
   "cell_type": "code",
   "execution_count": 10,
   "id": "b4617cdf-377f-48af-91b1-cb277c656507",
   "metadata": {},
   "outputs": [
    {
     "name": "stdout",
     "output_type": "stream",
     "text": [
      "WARNING:tensorflow:From C:\\Users\\Ajith G\\anaconda3\\envs\\genderclass\\lib\\site-packages\\keras\\src\\optimizers\\__init__.py:309: The name tf.train.Optimizer is deprecated. Please use tf.compat.v1.train.Optimizer instead.\n",
      "\n"
     ]
    }
   ],
   "source": [
    "model.compile(loss='categorical_crossentropy', optimizer='adam', metrics=['accuracy'])"
   ]
  },
  {
   "cell_type": "code",
   "execution_count": 11,
   "id": "8381ef6e-9c5e-4fae-9432-5401f250308e",
   "metadata": {},
   "outputs": [
    {
     "name": "stdout",
     "output_type": "stream",
     "text": [
      "Epoch 1/100\n",
      "WARNING:tensorflow:From C:\\Users\\Ajith G\\anaconda3\\envs\\genderclass\\lib\\site-packages\\keras\\src\\utils\\tf_utils.py:492: The name tf.ragged.RaggedTensorValue is deprecated. Please use tf.compat.v1.ragged.RaggedTensorValue instead.\n",
      "\n",
      "WARNING:tensorflow:From C:\\Users\\Ajith G\\anaconda3\\envs\\genderclass\\lib\\site-packages\\keras\\src\\engine\\base_layer_utils.py:384: The name tf.executing_eagerly_outside_functions is deprecated. Please use tf.compat.v1.executing_eagerly_outside_functions instead.\n",
      "\n",
      "18/18 [==============================] - 5s 94ms/step - loss: 1.4199 - accuracy: 0.3785 - val_loss: 1.1473 - val_accuracy: 0.4896\n",
      "Epoch 2/100\n",
      "18/18 [==============================] - 0s 21ms/step - loss: 1.0726 - accuracy: 0.5365 - val_loss: 1.0259 - val_accuracy: 0.5469\n",
      "Epoch 3/100\n",
      "18/18 [==============================] - 0s 28ms/step - loss: 0.9588 - accuracy: 0.6163 - val_loss: 0.9550 - val_accuracy: 0.5990\n",
      "Epoch 4/100\n",
      "18/18 [==============================] - 0s 23ms/step - loss: 0.8588 - accuracy: 0.6424 - val_loss: 0.9071 - val_accuracy: 0.6198\n",
      "Epoch 5/100\n",
      "18/18 [==============================] - 1s 34ms/step - loss: 0.7736 - accuracy: 0.6910 - val_loss: 0.8881 - val_accuracy: 0.6562\n",
      "Epoch 6/100\n",
      "18/18 [==============================] - 0s 20ms/step - loss: 0.6963 - accuracy: 0.7292 - val_loss: 0.8524 - val_accuracy: 0.6250\n",
      "Epoch 7/100\n",
      "18/18 [==============================] - 0s 26ms/step - loss: 0.6565 - accuracy: 0.7552 - val_loss: 0.8407 - val_accuracy: 0.6771\n",
      "Epoch 8/100\n",
      "18/18 [==============================] - 1s 28ms/step - loss: 0.6374 - accuracy: 0.7604 - val_loss: 0.8077 - val_accuracy: 0.7083\n",
      "Epoch 9/100\n",
      "18/18 [==============================] - 0s 14ms/step - loss: 0.5593 - accuracy: 0.7865 - val_loss: 0.8647 - val_accuracy: 0.7083\n",
      "Epoch 10/100\n",
      "18/18 [==============================] - 0s 11ms/step - loss: 0.5097 - accuracy: 0.8194 - val_loss: 0.7999 - val_accuracy: 0.7188\n",
      "Epoch 11/100\n",
      "18/18 [==============================] - 0s 17ms/step - loss: 0.5104 - accuracy: 0.8108 - val_loss: 0.8074 - val_accuracy: 0.7135\n",
      "Epoch 12/100\n",
      "18/18 [==============================] - 0s 23ms/step - loss: 0.4101 - accuracy: 0.8681 - val_loss: 0.7848 - val_accuracy: 0.7344\n",
      "Epoch 13/100\n",
      "18/18 [==============================] - 0s 25ms/step - loss: 0.4077 - accuracy: 0.8594 - val_loss: 0.7750 - val_accuracy: 0.7135\n",
      "Epoch 14/100\n",
      "18/18 [==============================] - 1s 32ms/step - loss: 0.3756 - accuracy: 0.8767 - val_loss: 0.7748 - val_accuracy: 0.7292\n",
      "Epoch 15/100\n",
      "18/18 [==============================] - 0s 25ms/step - loss: 0.3401 - accuracy: 0.8906 - val_loss: 0.8421 - val_accuracy: 0.6979\n",
      "Epoch 16/100\n",
      "18/18 [==============================] - 0s 27ms/step - loss: 0.3305 - accuracy: 0.8663 - val_loss: 0.9032 - val_accuracy: 0.7083\n",
      "Epoch 17/100\n",
      "18/18 [==============================] - 0s 25ms/step - loss: 0.3140 - accuracy: 0.8958 - val_loss: 0.8374 - val_accuracy: 0.7292\n",
      "Epoch 18/100\n",
      "18/18 [==============================] - 0s 26ms/step - loss: 0.2969 - accuracy: 0.9028 - val_loss: 0.8499 - val_accuracy: 0.7240\n",
      "Epoch 19/100\n",
      "18/18 [==============================] - 1s 29ms/step - loss: 0.2586 - accuracy: 0.9306 - val_loss: 0.8494 - val_accuracy: 0.7552\n",
      "Epoch 20/100\n",
      "18/18 [==============================] - 1s 29ms/step - loss: 0.2480 - accuracy: 0.9271 - val_loss: 0.8952 - val_accuracy: 0.7396\n",
      "Epoch 21/100\n",
      "18/18 [==============================] - 1s 31ms/step - loss: 0.3001 - accuracy: 0.9167 - val_loss: 1.0113 - val_accuracy: 0.7396\n",
      "Epoch 22/100\n",
      "18/18 [==============================] - 0s 19ms/step - loss: 0.2150 - accuracy: 0.9149 - val_loss: 0.8721 - val_accuracy: 0.7604\n",
      "Epoch 23/100\n",
      "18/18 [==============================] - 0s 25ms/step - loss: 0.2172 - accuracy: 0.9340 - val_loss: 0.8237 - val_accuracy: 0.7188\n",
      "Epoch 24/100\n",
      "18/18 [==============================] - 1s 31ms/step - loss: 0.1976 - accuracy: 0.9253 - val_loss: 0.9644 - val_accuracy: 0.6979\n",
      "Epoch 25/100\n",
      "18/18 [==============================] - 0s 26ms/step - loss: 0.2170 - accuracy: 0.9288 - val_loss: 0.8267 - val_accuracy: 0.7656\n",
      "Epoch 26/100\n",
      "18/18 [==============================] - 0s 27ms/step - loss: 0.1771 - accuracy: 0.9462 - val_loss: 0.8620 - val_accuracy: 0.7448\n",
      "Epoch 27/100\n",
      "18/18 [==============================] - 0s 25ms/step - loss: 0.1544 - accuracy: 0.9566 - val_loss: 0.8617 - val_accuracy: 0.7708\n",
      "Epoch 28/100\n",
      "18/18 [==============================] - 0s 26ms/step - loss: 0.1622 - accuracy: 0.9427 - val_loss: 1.0153 - val_accuracy: 0.7604\n",
      "Epoch 29/100\n",
      "18/18 [==============================] - 0s 26ms/step - loss: 0.1394 - accuracy: 0.9653 - val_loss: 1.0714 - val_accuracy: 0.7396\n",
      "Epoch 30/100\n",
      "18/18 [==============================] - 0s 25ms/step - loss: 0.1481 - accuracy: 0.9601 - val_loss: 1.0449 - val_accuracy: 0.7396\n",
      "Epoch 31/100\n",
      "18/18 [==============================] - 0s 24ms/step - loss: 0.1495 - accuracy: 0.9566 - val_loss: 0.9928 - val_accuracy: 0.7552\n",
      "Epoch 32/100\n",
      "18/18 [==============================] - 0s 10ms/step - loss: 0.1122 - accuracy: 0.9635 - val_loss: 1.0154 - val_accuracy: 0.7656\n",
      "Epoch 33/100\n",
      "18/18 [==============================] - 0s 16ms/step - loss: 0.1183 - accuracy: 0.9653 - val_loss: 1.0314 - val_accuracy: 0.7500\n",
      "Epoch 34/100\n",
      "18/18 [==============================] - 0s 27ms/step - loss: 0.1024 - accuracy: 0.9722 - val_loss: 1.1584 - val_accuracy: 0.7500\n",
      "Epoch 35/100\n",
      "18/18 [==============================] - 0s 20ms/step - loss: 0.1303 - accuracy: 0.9549 - val_loss: 1.1736 - val_accuracy: 0.7292\n",
      "Epoch 36/100\n",
      "18/18 [==============================] - 0s 23ms/step - loss: 0.1111 - accuracy: 0.9601 - val_loss: 1.1912 - val_accuracy: 0.7708\n",
      "Epoch 37/100\n",
      "18/18 [==============================] - 0s 25ms/step - loss: 0.1393 - accuracy: 0.9705 - val_loss: 1.0721 - val_accuracy: 0.7604\n",
      "Epoch 38/100\n",
      "18/18 [==============================] - 0s 26ms/step - loss: 0.1015 - accuracy: 0.9757 - val_loss: 1.2053 - val_accuracy: 0.7292\n",
      "Epoch 39/100\n",
      "18/18 [==============================] - 0s 24ms/step - loss: 0.1003 - accuracy: 0.9653 - val_loss: 1.0736 - val_accuracy: 0.7396\n",
      "Epoch 40/100\n",
      "18/18 [==============================] - 0s 28ms/step - loss: 0.1016 - accuracy: 0.9653 - val_loss: 1.0754 - val_accuracy: 0.7656\n",
      "Epoch 41/100\n",
      "18/18 [==============================] - 0s 25ms/step - loss: 0.0746 - accuracy: 0.9757 - val_loss: 1.1087 - val_accuracy: 0.7760\n",
      "Epoch 42/100\n",
      "18/18 [==============================] - 1s 30ms/step - loss: 0.0804 - accuracy: 0.9757 - val_loss: 1.1072 - val_accuracy: 0.7708\n",
      "Epoch 43/100\n",
      "18/18 [==============================] - 1s 29ms/step - loss: 0.0768 - accuracy: 0.9722 - val_loss: 1.2128 - val_accuracy: 0.7604\n",
      "Epoch 44/100\n",
      "18/18 [==============================] - 0s 19ms/step - loss: 0.1200 - accuracy: 0.9705 - val_loss: 1.0947 - val_accuracy: 0.7500\n",
      "Epoch 45/100\n",
      "18/18 [==============================] - 1s 29ms/step - loss: 0.1306 - accuracy: 0.9722 - val_loss: 1.0178 - val_accuracy: 0.7604\n",
      "Epoch 46/100\n",
      "18/18 [==============================] - 1s 28ms/step - loss: 0.0880 - accuracy: 0.9774 - val_loss: 1.0366 - val_accuracy: 0.7656\n",
      "Epoch 47/100\n",
      "18/18 [==============================] - 0s 28ms/step - loss: 0.0728 - accuracy: 0.9809 - val_loss: 1.1763 - val_accuracy: 0.7604\n",
      "Epoch 48/100\n",
      "18/18 [==============================] - 0s 28ms/step - loss: 0.0788 - accuracy: 0.9722 - val_loss: 1.1506 - val_accuracy: 0.7396\n",
      "Epoch 49/100\n",
      "18/18 [==============================] - 1s 29ms/step - loss: 0.0875 - accuracy: 0.9670 - val_loss: 1.1072 - val_accuracy: 0.7448\n",
      "Epoch 50/100\n",
      "18/18 [==============================] - 0s 24ms/step - loss: 0.0674 - accuracy: 0.9861 - val_loss: 1.1206 - val_accuracy: 0.7448\n",
      "Epoch 51/100\n",
      "18/18 [==============================] - 0s 18ms/step - loss: 0.1072 - accuracy: 0.9722 - val_loss: 1.1216 - val_accuracy: 0.7448\n",
      "Epoch 52/100\n",
      "18/18 [==============================] - 0s 23ms/step - loss: 0.0923 - accuracy: 0.9792 - val_loss: 1.3092 - val_accuracy: 0.7552\n",
      "Epoch 53/100\n",
      "18/18 [==============================] - 0s 21ms/step - loss: 0.1072 - accuracy: 0.9826 - val_loss: 1.3891 - val_accuracy: 0.7188\n",
      "Epoch 54/100\n",
      "18/18 [==============================] - 0s 14ms/step - loss: 0.0950 - accuracy: 0.9722 - val_loss: 1.1290 - val_accuracy: 0.7500\n",
      "Epoch 55/100\n",
      "18/18 [==============================] - 0s 15ms/step - loss: 0.0745 - accuracy: 0.9844 - val_loss: 1.1295 - val_accuracy: 0.7500\n",
      "Epoch 56/100\n",
      "18/18 [==============================] - 0s 18ms/step - loss: 0.0827 - accuracy: 0.9688 - val_loss: 1.2992 - val_accuracy: 0.7552\n",
      "Epoch 57/100\n",
      "18/18 [==============================] - 0s 15ms/step - loss: 0.0710 - accuracy: 0.9792 - val_loss: 1.2860 - val_accuracy: 0.7552\n",
      "Epoch 58/100\n",
      "18/18 [==============================] - 0s 13ms/step - loss: 0.0423 - accuracy: 0.9965 - val_loss: 1.2654 - val_accuracy: 0.7396\n",
      "Epoch 59/100\n",
      "18/18 [==============================] - 0s 19ms/step - loss: 0.0545 - accuracy: 0.9809 - val_loss: 1.2222 - val_accuracy: 0.7552\n",
      "Epoch 60/100\n",
      "18/18 [==============================] - 0s 14ms/step - loss: 0.0441 - accuracy: 0.9861 - val_loss: 1.2583 - val_accuracy: 0.7604\n",
      "Epoch 61/100\n",
      "18/18 [==============================] - 0s 21ms/step - loss: 0.0830 - accuracy: 0.9896 - val_loss: 1.5615 - val_accuracy: 0.7500\n",
      "Epoch 62/100\n",
      "18/18 [==============================] - 0s 17ms/step - loss: 0.0418 - accuracy: 0.9913 - val_loss: 1.4231 - val_accuracy: 0.7500\n",
      "Epoch 63/100\n",
      "18/18 [==============================] - 0s 26ms/step - loss: 0.0481 - accuracy: 0.9861 - val_loss: 1.5425 - val_accuracy: 0.7604\n",
      "Epoch 64/100\n",
      "18/18 [==============================] - 0s 22ms/step - loss: 0.0477 - accuracy: 0.9896 - val_loss: 1.7042 - val_accuracy: 0.7344\n",
      "Epoch 65/100\n",
      "18/18 [==============================] - 0s 23ms/step - loss: 0.0503 - accuracy: 0.9913 - val_loss: 1.8942 - val_accuracy: 0.7292\n",
      "Epoch 66/100\n",
      "18/18 [==============================] - 0s 24ms/step - loss: 0.0556 - accuracy: 0.9878 - val_loss: 2.0021 - val_accuracy: 0.7448\n",
      "Epoch 67/100\n",
      "18/18 [==============================] - 0s 28ms/step - loss: 0.0587 - accuracy: 0.9826 - val_loss: 1.9543 - val_accuracy: 0.7292\n",
      "Epoch 68/100\n",
      "18/18 [==============================] - 0s 18ms/step - loss: 0.0373 - accuracy: 0.9896 - val_loss: 1.9395 - val_accuracy: 0.7344\n",
      "Epoch 69/100\n",
      "18/18 [==============================] - 0s 23ms/step - loss: 0.0322 - accuracy: 0.9931 - val_loss: 1.9549 - val_accuracy: 0.7240\n",
      "Epoch 70/100\n",
      "18/18 [==============================] - 0s 16ms/step - loss: 0.0477 - accuracy: 0.9878 - val_loss: 2.0082 - val_accuracy: 0.7344\n",
      "Epoch 71/100\n",
      "18/18 [==============================] - 0s 24ms/step - loss: 0.0395 - accuracy: 0.9896 - val_loss: 2.0231 - val_accuracy: 0.7656\n",
      "Epoch 72/100\n",
      "18/18 [==============================] - 0s 22ms/step - loss: 0.0394 - accuracy: 0.9896 - val_loss: 2.1315 - val_accuracy: 0.7396\n",
      "Epoch 73/100\n",
      "18/18 [==============================] - 0s 17ms/step - loss: 0.0493 - accuracy: 0.9826 - val_loss: 2.1180 - val_accuracy: 0.7552\n",
      "Epoch 74/100\n",
      "18/18 [==============================] - 0s 25ms/step - loss: 0.0387 - accuracy: 0.9931 - val_loss: 2.0225 - val_accuracy: 0.7812\n",
      "Epoch 75/100\n",
      "18/18 [==============================] - 0s 26ms/step - loss: 0.0331 - accuracy: 0.9931 - val_loss: 2.0732 - val_accuracy: 0.7448\n",
      "Epoch 76/100\n",
      "18/18 [==============================] - 0s 26ms/step - loss: 0.0597 - accuracy: 0.9861 - val_loss: 2.2041 - val_accuracy: 0.7135\n",
      "Epoch 77/100\n",
      "18/18 [==============================] - 0s 23ms/step - loss: 0.0368 - accuracy: 0.9878 - val_loss: 1.9677 - val_accuracy: 0.7500\n",
      "Epoch 78/100\n",
      "18/18 [==============================] - 0s 22ms/step - loss: 0.0357 - accuracy: 0.9896 - val_loss: 2.0713 - val_accuracy: 0.7396\n",
      "Epoch 79/100\n",
      "18/18 [==============================] - 0s 26ms/step - loss: 0.0274 - accuracy: 0.9948 - val_loss: 1.9556 - val_accuracy: 0.7552\n",
      "Epoch 80/100\n",
      "18/18 [==============================] - 0s 24ms/step - loss: 0.0247 - accuracy: 0.9931 - val_loss: 2.0301 - val_accuracy: 0.7604\n",
      "Epoch 81/100\n",
      "18/18 [==============================] - 0s 9ms/step - loss: 0.0321 - accuracy: 0.9913 - val_loss: 1.9720 - val_accuracy: 0.7760\n",
      "Epoch 82/100\n",
      "18/18 [==============================] - 0s 16ms/step - loss: 0.0307 - accuracy: 0.9931 - val_loss: 1.9976 - val_accuracy: 0.7812\n",
      "Epoch 83/100\n",
      "18/18 [==============================] - 0s 22ms/step - loss: 0.0244 - accuracy: 0.9948 - val_loss: 1.9860 - val_accuracy: 0.7604\n",
      "Epoch 84/100\n",
      "18/18 [==============================] - 0s 16ms/step - loss: 0.0288 - accuracy: 0.9931 - val_loss: 1.9636 - val_accuracy: 0.7656\n",
      "Epoch 85/100\n",
      "18/18 [==============================] - 0s 27ms/step - loss: 0.0177 - accuracy: 0.9965 - val_loss: 2.0155 - val_accuracy: 0.7552\n",
      "Epoch 86/100\n",
      "18/18 [==============================] - 0s 27ms/step - loss: 0.0287 - accuracy: 0.9948 - val_loss: 2.0717 - val_accuracy: 0.7396\n",
      "Epoch 87/100\n",
      "18/18 [==============================] - 0s 22ms/step - loss: 0.0145 - accuracy: 0.9983 - val_loss: 2.0760 - val_accuracy: 0.7448\n",
      "Epoch 88/100\n",
      "18/18 [==============================] - 0s 25ms/step - loss: 0.0200 - accuracy: 0.9965 - val_loss: 2.0637 - val_accuracy: 0.7500\n",
      "Epoch 89/100\n",
      "18/18 [==============================] - 0s 24ms/step - loss: 0.0196 - accuracy: 0.9931 - val_loss: 2.0800 - val_accuracy: 0.7708\n",
      "Epoch 90/100\n",
      "18/18 [==============================] - 0s 14ms/step - loss: 0.0293 - accuracy: 0.9931 - val_loss: 2.1046 - val_accuracy: 0.7708\n",
      "Epoch 91/100\n",
      "18/18 [==============================] - 0s 22ms/step - loss: 0.0383 - accuracy: 0.9913 - val_loss: 2.0877 - val_accuracy: 0.7812\n",
      "Epoch 92/100\n",
      "18/18 [==============================] - 1s 29ms/step - loss: 0.0178 - accuracy: 0.9965 - val_loss: 2.1441 - val_accuracy: 0.7656\n",
      "Epoch 93/100\n",
      "18/18 [==============================] - 0s 24ms/step - loss: 0.0179 - accuracy: 0.9948 - val_loss: 2.1622 - val_accuracy: 0.7552\n",
      "Epoch 94/100\n",
      "18/18 [==============================] - 0s 22ms/step - loss: 0.0149 - accuracy: 0.9965 - val_loss: 2.1874 - val_accuracy: 0.7448\n",
      "Epoch 95/100\n",
      "18/18 [==============================] - 1s 32ms/step - loss: 0.0111 - accuracy: 1.0000 - val_loss: 2.1410 - val_accuracy: 0.7604\n",
      "Epoch 96/100\n",
      "18/18 [==============================] - 0s 22ms/step - loss: 0.0132 - accuracy: 0.9983 - val_loss: 2.1824 - val_accuracy: 0.7604\n",
      "Epoch 97/100\n",
      "18/18 [==============================] - 0s 25ms/step - loss: 0.0134 - accuracy: 0.9983 - val_loss: 2.1288 - val_accuracy: 0.7552\n",
      "Epoch 98/100\n",
      "18/18 [==============================] - 1s 29ms/step - loss: 0.0274 - accuracy: 0.9948 - val_loss: 2.2015 - val_accuracy: 0.7448\n",
      "Epoch 99/100\n",
      "18/18 [==============================] - 0s 27ms/step - loss: 0.0398 - accuracy: 0.9913 - val_loss: 2.2281 - val_accuracy: 0.7552\n",
      "Epoch 100/100\n",
      "18/18 [==============================] - 0s 12ms/step - loss: 0.0149 - accuracy: 0.9965 - val_loss: 2.1480 - val_accuracy: 0.7708\n"
     ]
    }
   ],
   "source": [
    "history = model.fit(x_train, y_train, epochs=100, batch_size=32, validation_data=(x_test, y_test))"
   ]
  },
  {
   "cell_type": "code",
   "execution_count": 12,
   "id": "3aaf429b-ab8b-4364-a3f9-8e7585bdadc3",
   "metadata": {},
   "outputs": [
    {
     "name": "stdout",
     "output_type": "stream",
     "text": [
      "6/6 [==============================] - 0s 6ms/step - loss: 2.1480 - accuracy: 0.7708\n",
      "Test Accuracy: 77.08%\n"
     ]
    }
   ],
   "source": [
    "loss, accuracy = model.evaluate(x_test, y_test)\n",
    "print(\"Test Accuracy: {:.2f}%\".format(accuracy * 100))"
   ]
  },
  {
   "cell_type": "code",
   "execution_count": 18,
   "id": "0d073b84-ce4f-4956-b8ca-4d1174357ab0",
   "metadata": {},
   "outputs": [
    {
     "name": "stdout",
     "output_type": "stream",
     "text": [
      "1/1 [==============================] - 0s 58ms/step\n",
      "calm\n"
     ]
    }
   ],
   "source": [
    "def predict_emotion(file_path):\n",
    "    feature = extract_feature(file_path, mfcc=True, chroma=True, mel=True)\n",
    "    feature = scaler.transform([feature])\n",
    "    prediction = model.predict(feature)\n",
    "    emotion = le.inverse_transform([np.argmax(prediction)])\n",
    "    return emotion[0]\n",
    "\n",
    "# Example\n",
    "print(predict_emotion(\"D:\\\\Projects\\\\Machine Learning\\\\speech emotion detector\\\\test\\\\sad.wav\"))"
   ]
  },
  {
   "cell_type": "code",
   "execution_count": null,
   "id": "e19461cb-eb8a-48db-baf0-e5b52b16e200",
   "metadata": {},
   "outputs": [],
   "source": [
    "# Save model\n",
    "model.save(\"emotion_model.h5\")\n",
    "\n",
    "# Save scaler and label encoder\n",
    "import pickle\n",
    "with open(\"scaler.pkl\", \"wb\") as f:\n",
    "    pickle.dump(scaler, f)\n",
    "\n",
    "with open(\"label_encoder.pkl\", \"wb\") as f:\n",
    "    pickle.dump(le, f)\n"
   ]
  }
 ],
 "metadata": {
  "kernelspec": {
   "display_name": "Gender Classification",
   "language": "python",
   "name": "genderclass"
  },
  "language_info": {
   "codemirror_mode": {
    "name": "ipython",
    "version": 3
   },
   "file_extension": ".py",
   "mimetype": "text/x-python",
   "name": "python",
   "nbconvert_exporter": "python",
   "pygments_lexer": "ipython3",
   "version": "3.10.8"
  }
 },
 "nbformat": 4,
 "nbformat_minor": 5
}
